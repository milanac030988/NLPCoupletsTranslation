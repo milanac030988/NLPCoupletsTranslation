{
 "cells": [
  {
   "cell_type": "code",
   "execution_count": 8,
   "metadata": {},
   "outputs": [
    {
     "ename": "NameError",
     "evalue": "name 'exit' is not defined",
     "output_type": "error",
     "traceback": [
      "\u001b[1;31m---------------------------------------------------------------------------\u001b[0m",
      "\u001b[1;31mNameError\u001b[0m                                 Traceback (most recent call last)",
      "Cell \u001b[1;32mIn[8], line 1\u001b[0m\n\u001b[1;32m----> 1\u001b[0m \u001b[39mfrom\u001b[39;00m \u001b[39mfake_chatgpt_api\u001b[39;00m \u001b[39mimport\u001b[39;00m FakeChatGPTAPI\n\u001b[0;32m      3\u001b[0m fake_api \u001b[39m=\u001b[39m FakeChatGPTAPI()\n\u001b[0;32m      4\u001b[0m couplets \u001b[39m=\u001b[39m \u001b[39minput\u001b[39m(\u001b[39m\"\u001b[39m\u001b[39mNhập câu đối cần dịch:\u001b[39m\u001b[39m\"\u001b[39m)\n",
      "File \u001b[1;32mfake_chatgpt_api.py:1\u001b[0m, in \u001b[0;36minit fake_chatgpt_api\u001b[1;34m()\u001b[0m\n",
      "\u001b[1;31mNameError\u001b[0m: name 'exit' is not defined"
     ]
    }
   ],
   "source": [
    "from fake_chatgpt_api import FakeChatGPTAPI\n",
    "\n",
    "fake_api = FakeChatGPTAPI()\n",
    "couplets = input(\"Nhập câu đối cần dịch:\")\n",
    "resp = fake_api.send_request(couplets)\n",
    "print (f\"Response from ChatGPT: {resp}\")\n"
   ]
  }
 ],
 "metadata": {
  "kernelspec": {
   "display_name": "Python 3",
   "language": "python",
   "name": "python3"
  },
  "language_info": {
   "codemirror_mode": {
    "name": "ipython",
    "version": 3
   },
   "file_extension": ".py",
   "mimetype": "text/x-python",
   "name": "python",
   "nbconvert_exporter": "python",
   "pygments_lexer": "ipython3",
   "version": "3.9.16"
  },
  "orig_nbformat": 4,
  "vscode": {
   "interpreter": {
    "hash": "bf1c5f442df5cb12b3a943d86abb963bf38dedc9659156bf1730ade1435231e8"
   }
  }
 },
 "nbformat": 4,
 "nbformat_minor": 2
}
